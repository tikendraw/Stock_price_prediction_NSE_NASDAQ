{
  "cells": [
    {
      "cell_type": "markdown",
      "metadata": {
        "id": "view-in-github",
        "colab_type": "text"
      },
      "source": [
        "<a href=\"https://colab.research.google.com/github/tikendraw/Stock_price_prediction_NSE_NASDAQ/blob/main/stock_prediction.ipynb\" target=\"_parent\"><img src=\"https://colab.research.google.com/assets/colab-badge.svg\" alt=\"Open In Colab\"/></a>"
      ]
    },
    {
      "cell_type": "markdown",
      "metadata": {
        "id": "6NlX8xyOuAa9"
      },
      "source": [
        "# Stock Price Predictions"
      ]
    },
    {
      "cell_type": "code",
      "source": [
        "import os\n",
        "import sys\n",
        "\n",
        "if 'google.colab' in str(get_ipython()) :\n",
        "    !pip install yfinance --quiet\n",
        "    !pip install pandas-datareader -q\n",
        "\n",
        "    !git clone https://github.com/tikendraw/Stock_price_prediction_NSE_NASDAQ.git\n",
        "    os.chdir('Stock_price_prediction_NSE_NASDAQ')"
      ],
      "metadata": {
        "id": "IOH6GwegKKzD",
        "outputId": "6e7a6942-85f7-4d53-9f18-52b832dd4713",
        "colab": {
          "base_uri": "https://localhost:8080/"
        }
      },
      "execution_count": 3,
      "outputs": [
        {
          "output_type": "stream",
          "name": "stdout",
          "text": [
            "Cloning into 'Stock_price_prediction_NSE_NASDAQ'...\n",
            "remote: Enumerating objects: 36, done.\u001b[K\n",
            "remote: Counting objects: 100% (36/36), done.\u001b[K\n",
            "remote: Compressing objects: 100% (30/30), done.\u001b[K\n",
            "remote: Total 36 (delta 6), reused 32 (delta 5), pack-reused 0\u001b[K\n",
            "Unpacking objects: 100% (36/36), 1.56 MiB | 4.77 MiB/s, done.\n"
          ]
        }
      ]
    },
    {
      "cell_type": "code",
      "execution_count": 5,
      "metadata": {
        "id": "L0fSKJpf1_FJ"
      },
      "outputs": [],
      "source": [
        "# import modules\n",
        "from datetime import datetime\n",
        "\n",
        "import yfinance as yf\n",
        "import matplotlib.pyplot as plt\n",
        "import datetime\n",
        "import time\n",
        "from pandas_datareader import data as pdr\n",
        "import yfinance as yf\n",
        "from sklearn.model_selection import train_test_split\n",
        "import tensorflow as tf\n",
        "from tensorflow import keras\n",
        "from tensorflow.keras import layers, optimizers, losses, callbacks\n",
        "from tensorflow.keras.preprocessing.sequence import  TimeseriesGenerator\n",
        "import pandas as pd\n",
        "import numpy as np\n",
        "import os \n",
        "from pathlib import Path\n",
        "from update_stock_symbols import get_stock_symbols"
      ]
    },
    {
      "cell_type": "code",
      "execution_count": 6,
      "metadata": {
        "id": "hRzsFJJ2NF8x",
        "outputId": "bb6a02c8-3836-4dd8-8bee-e801ed9c5b7b",
        "colab": {
          "base_uri": "https://localhost:8080/"
        }
      },
      "outputs": [
        {
          "output_type": "stream",
          "name": "stdout",
          "text": [
            "/content/Stock_price_prediction_NSE_NASDAQ\n"
          ]
        }
      ],
      "source": [
        "main_path = Path.cwd()\n",
        "print(main_path)"
      ]
    },
    {
      "cell_type": "code",
      "execution_count": 6,
      "metadata": {
        "id": "hUPehKjH6aVZ"
      },
      "outputs": [],
      "source": []
    },
    {
      "cell_type": "code",
      "execution_count": 7,
      "metadata": {
        "colab": {
          "base_uri": "https://localhost:8080/"
        },
        "id": "YIDt16lRGN7e",
        "outputId": "ce0dac29-c8b2-44a0-d36c-a7f6bf119f28"
      },
      "outputs": [
        {
          "output_type": "stream",
          "name": "stdout",
          "text": [
            "Getting stock symbols...\n",
            "Updated.\n"
          ]
        }
      ],
      "source": [
        "#updating the list\n",
        "get_stock_symbols() "
      ]
    },
    {
      "cell_type": "code",
      "execution_count": 8,
      "metadata": {
        "id": "MpR8_9DoIlSY"
      },
      "outputs": [],
      "source": [
        "# os.system('rm -rf src')"
      ]
    },
    {
      "cell_type": "code",
      "execution_count": 9,
      "metadata": {
        "id": "5rQIVZ_8Lt_o"
      },
      "outputs": [],
      "source": [
        "# creating data path and Moving downloaded files\n",
        "dataset_dir = main_path / 'dataset'\n",
        "dataset_dir.mkdir(exist_ok = True)\n",
        "\n",
        "comp1 = 'AAPL'\n",
        "\n",
        "HIST = 5\n"
      ]
    },
    {
      "cell_type": "code",
      "execution_count": 10,
      "metadata": {
        "id": "BRATN-8CPMd3"
      },
      "outputs": [],
      "source": [
        "companies = [comp1]"
      ]
    },
    {
      "cell_type": "code",
      "execution_count": 11,
      "metadata": {
        "colab": {
          "base_uri": "https://localhost:8080/"
        },
        "id": "o6GaoofjLyU-",
        "outputId": "2f8e1325-b96e-4efc-c042-e73870207fbd"
      },
      "outputs": [
        {
          "output_type": "stream",
          "name": "stdout",
          "text": [
            "\r[*********************100%***********************]  1 of 1 completed\n"
          ]
        }
      ],
      "source": [
        "companies_data = {}\n",
        "for comp in companies:\n",
        "    yf.pdr_override() # <== that's all it takes :-)\n",
        "\n",
        "    # download dataframe\n",
        "    years = 5\n",
        "    end_date = str(datetime.date.today()) # today\n",
        "    start_date = str(datetime.date.today() - datetime.timedelta(days= years*365)) # some years from now\n",
        "    \n",
        "    data = pdr.get_data_yahoo(comp, start=start_date, end=end_date)\n",
        "    data.to_csv(f'{dataset_dir}/{comp}-{start_date}.csv')\n",
        "    companies_data[comp]=data"
      ]
    },
    {
      "cell_type": "code",
      "execution_count": 12,
      "metadata": {
        "id": "kqtLZ_DhQgt8"
      },
      "outputs": [],
      "source": [
        "df = companies_data['AAPL']"
      ]
    },
    {
      "cell_type": "code",
      "execution_count": 13,
      "metadata": {
        "colab": {
          "base_uri": "https://localhost:8080/",
          "height": 238
        },
        "id": "Nw3rhtnKSZm9",
        "outputId": "b6ef9d77-5b45-4223-cf4b-8afbab109b81"
      },
      "outputs": [
        {
          "output_type": "execute_result",
          "data": {
            "text/plain": [
              "                  Open        High         Low       Close   Adj Close  \\\n",
              "Date                                                                     \n",
              "2023-02-24  147.110001  147.190002  145.720001  146.710007  146.710007   \n",
              "2023-02-27  147.710007  149.169998  147.449997  147.919998  147.919998   \n",
              "2023-02-28  147.050003  149.080002  146.830002  147.410004  147.410004   \n",
              "2023-03-01  146.830002  147.229996  145.009995  145.309998  145.309998   \n",
              "2023-03-02  144.380005  146.710007  143.899994  145.910004  145.910004   \n",
              "\n",
              "              Volume  \n",
              "Date                  \n",
              "2023-02-24  55469600  \n",
              "2023-02-27  44998500  \n",
              "2023-02-28  50547000  \n",
              "2023-03-01  55479000  \n",
              "2023-03-02  52238100  "
            ],
            "text/html": [
              "\n",
              "  <div id=\"df-7a4fee7d-62e0-4e58-b650-fa295627f997\">\n",
              "    <div class=\"colab-df-container\">\n",
              "      <div>\n",
              "<style scoped>\n",
              "    .dataframe tbody tr th:only-of-type {\n",
              "        vertical-align: middle;\n",
              "    }\n",
              "\n",
              "    .dataframe tbody tr th {\n",
              "        vertical-align: top;\n",
              "    }\n",
              "\n",
              "    .dataframe thead th {\n",
              "        text-align: right;\n",
              "    }\n",
              "</style>\n",
              "<table border=\"1\" class=\"dataframe\">\n",
              "  <thead>\n",
              "    <tr style=\"text-align: right;\">\n",
              "      <th></th>\n",
              "      <th>Open</th>\n",
              "      <th>High</th>\n",
              "      <th>Low</th>\n",
              "      <th>Close</th>\n",
              "      <th>Adj Close</th>\n",
              "      <th>Volume</th>\n",
              "    </tr>\n",
              "    <tr>\n",
              "      <th>Date</th>\n",
              "      <th></th>\n",
              "      <th></th>\n",
              "      <th></th>\n",
              "      <th></th>\n",
              "      <th></th>\n",
              "      <th></th>\n",
              "    </tr>\n",
              "  </thead>\n",
              "  <tbody>\n",
              "    <tr>\n",
              "      <th>2023-02-24</th>\n",
              "      <td>147.110001</td>\n",
              "      <td>147.190002</td>\n",
              "      <td>145.720001</td>\n",
              "      <td>146.710007</td>\n",
              "      <td>146.710007</td>\n",
              "      <td>55469600</td>\n",
              "    </tr>\n",
              "    <tr>\n",
              "      <th>2023-02-27</th>\n",
              "      <td>147.710007</td>\n",
              "      <td>149.169998</td>\n",
              "      <td>147.449997</td>\n",
              "      <td>147.919998</td>\n",
              "      <td>147.919998</td>\n",
              "      <td>44998500</td>\n",
              "    </tr>\n",
              "    <tr>\n",
              "      <th>2023-02-28</th>\n",
              "      <td>147.050003</td>\n",
              "      <td>149.080002</td>\n",
              "      <td>146.830002</td>\n",
              "      <td>147.410004</td>\n",
              "      <td>147.410004</td>\n",
              "      <td>50547000</td>\n",
              "    </tr>\n",
              "    <tr>\n",
              "      <th>2023-03-01</th>\n",
              "      <td>146.830002</td>\n",
              "      <td>147.229996</td>\n",
              "      <td>145.009995</td>\n",
              "      <td>145.309998</td>\n",
              "      <td>145.309998</td>\n",
              "      <td>55479000</td>\n",
              "    </tr>\n",
              "    <tr>\n",
              "      <th>2023-03-02</th>\n",
              "      <td>144.380005</td>\n",
              "      <td>146.710007</td>\n",
              "      <td>143.899994</td>\n",
              "      <td>145.910004</td>\n",
              "      <td>145.910004</td>\n",
              "      <td>52238100</td>\n",
              "    </tr>\n",
              "  </tbody>\n",
              "</table>\n",
              "</div>\n",
              "      <button class=\"colab-df-convert\" onclick=\"convertToInteractive('df-7a4fee7d-62e0-4e58-b650-fa295627f997')\"\n",
              "              title=\"Convert this dataframe to an interactive table.\"\n",
              "              style=\"display:none;\">\n",
              "        \n",
              "  <svg xmlns=\"http://www.w3.org/2000/svg\" height=\"24px\"viewBox=\"0 0 24 24\"\n",
              "       width=\"24px\">\n",
              "    <path d=\"M0 0h24v24H0V0z\" fill=\"none\"/>\n",
              "    <path d=\"M18.56 5.44l.94 2.06.94-2.06 2.06-.94-2.06-.94-.94-2.06-.94 2.06-2.06.94zm-11 1L8.5 8.5l.94-2.06 2.06-.94-2.06-.94L8.5 2.5l-.94 2.06-2.06.94zm10 10l.94 2.06.94-2.06 2.06-.94-2.06-.94-.94-2.06-.94 2.06-2.06.94z\"/><path d=\"M17.41 7.96l-1.37-1.37c-.4-.4-.92-.59-1.43-.59-.52 0-1.04.2-1.43.59L10.3 9.45l-7.72 7.72c-.78.78-.78 2.05 0 2.83L4 21.41c.39.39.9.59 1.41.59.51 0 1.02-.2 1.41-.59l7.78-7.78 2.81-2.81c.8-.78.8-2.07 0-2.86zM5.41 20L4 18.59l7.72-7.72 1.47 1.35L5.41 20z\"/>\n",
              "  </svg>\n",
              "      </button>\n",
              "      \n",
              "  <style>\n",
              "    .colab-df-container {\n",
              "      display:flex;\n",
              "      flex-wrap:wrap;\n",
              "      gap: 12px;\n",
              "    }\n",
              "\n",
              "    .colab-df-convert {\n",
              "      background-color: #E8F0FE;\n",
              "      border: none;\n",
              "      border-radius: 50%;\n",
              "      cursor: pointer;\n",
              "      display: none;\n",
              "      fill: #1967D2;\n",
              "      height: 32px;\n",
              "      padding: 0 0 0 0;\n",
              "      width: 32px;\n",
              "    }\n",
              "\n",
              "    .colab-df-convert:hover {\n",
              "      background-color: #E2EBFA;\n",
              "      box-shadow: 0px 1px 2px rgba(60, 64, 67, 0.3), 0px 1px 3px 1px rgba(60, 64, 67, 0.15);\n",
              "      fill: #174EA6;\n",
              "    }\n",
              "\n",
              "    [theme=dark] .colab-df-convert {\n",
              "      background-color: #3B4455;\n",
              "      fill: #D2E3FC;\n",
              "    }\n",
              "\n",
              "    [theme=dark] .colab-df-convert:hover {\n",
              "      background-color: #434B5C;\n",
              "      box-shadow: 0px 1px 3px 1px rgba(0, 0, 0, 0.15);\n",
              "      filter: drop-shadow(0px 1px 2px rgba(0, 0, 0, 0.3));\n",
              "      fill: #FFFFFF;\n",
              "    }\n",
              "  </style>\n",
              "\n",
              "      <script>\n",
              "        const buttonEl =\n",
              "          document.querySelector('#df-7a4fee7d-62e0-4e58-b650-fa295627f997 button.colab-df-convert');\n",
              "        buttonEl.style.display =\n",
              "          google.colab.kernel.accessAllowed ? 'block' : 'none';\n",
              "\n",
              "        async function convertToInteractive(key) {\n",
              "          const element = document.querySelector('#df-7a4fee7d-62e0-4e58-b650-fa295627f997');\n",
              "          const dataTable =\n",
              "            await google.colab.kernel.invokeFunction('convertToInteractive',\n",
              "                                                     [key], {});\n",
              "          if (!dataTable) return;\n",
              "\n",
              "          const docLinkHtml = 'Like what you see? Visit the ' +\n",
              "            '<a target=\"_blank\" href=https://colab.research.google.com/notebooks/data_table.ipynb>data table notebook</a>'\n",
              "            + ' to learn more about interactive tables.';\n",
              "          element.innerHTML = '';\n",
              "          dataTable['output_type'] = 'display_data';\n",
              "          await google.colab.output.renderOutput(dataTable, element);\n",
              "          const docLink = document.createElement('div');\n",
              "          docLink.innerHTML = docLinkHtml;\n",
              "          element.appendChild(docLink);\n",
              "        }\n",
              "      </script>\n",
              "    </div>\n",
              "  </div>\n",
              "  "
            ]
          },
          "metadata": {},
          "execution_count": 13
        }
      ],
      "source": [
        "df.tail()"
      ]
    },
    {
      "cell_type": "code",
      "execution_count": 14,
      "metadata": {
        "id": "PBt1ulaVJ0Bl",
        "outputId": "b257f7f1-88ea-4516-b130-b84bda1bf5e8",
        "colab": {
          "base_uri": "https://localhost:8080/"
        }
      },
      "outputs": [
        {
          "output_type": "execute_result",
          "data": {
            "text/plain": [
              "(1258, 6)"
            ]
          },
          "metadata": {},
          "execution_count": 14
        }
      ],
      "source": [
        "df.shape"
      ]
    },
    {
      "cell_type": "markdown",
      "metadata": {
        "id": "U06ofCTr7r4U"
      },
      "source": [
        "## Creating dataset"
      ]
    },
    {
      "cell_type": "markdown",
      "metadata": {
        "id": "smr-3zIj7uSz"
      },
      "source": [
        "We need to create a dataset that moves with time and creates windows(features) and Horizons(label)\n",
        "\n",
        "1. One to one dataset (One feature column and One Label)\n",
        "    \n",
        "    e.g. feature Adj Close --> Adj Close\n",
        "2. Many to One dataset (All the Features and One Label)\n",
        "    \n",
        "    e.g. [Open, High, Low, Close, Adj Close, Volume] --> Adj Close"
      ]
    },
    {
      "cell_type": "code",
      "execution_count": 15,
      "metadata": {
        "colab": {
          "base_uri": "https://localhost:8080/"
        },
        "id": "tF50_wfW88Co",
        "outputId": "ff4f0678-b772-4cc2-a542-31761d76bfdd"
      },
      "outputs": [
        {
          "output_type": "stream",
          "name": "stdout",
          "text": [
            "[ 42.14156723  42.10580826  41.71494675 ... 147.41000366 145.30999756\n",
            " 145.91000366]\n"
          ]
        }
      ],
      "source": [
        "# setting a columns to be predicted\n",
        "wanted = 'Adj Close'\n",
        "price = df[wanted].to_numpy()\n",
        "time = df[wanted].index.to_numpy()\n",
        "\n",
        "# show some prices\n",
        "print(price)"
      ]
    },
    {
      "cell_type": "code",
      "execution_count": 16,
      "metadata": {
        "colab": {
          "base_uri": "https://localhost:8080/"
        },
        "id": "9r_Gi8_IBpE_",
        "outputId": "a2d22633-ffcf-42db-8790-4ce8e1192165"
      },
      "outputs": [
        {
          "output_type": "execute_result",
          "data": {
            "text/plain": [
              "1258"
            ]
          },
          "metadata": {},
          "execution_count": 16
        }
      ],
      "source": [
        "len(price)"
      ]
    },
    {
      "cell_type": "code",
      "execution_count": 17,
      "metadata": {
        "id": "jB7__vjy9RMp"
      },
      "outputs": [],
      "source": [
        "WINDOW_SIZE = 3\n",
        "HORIZON = 1\n",
        "class WindowMaker:\n",
        "    '''\n",
        "    dataclass returns windows and horizons with given parameter\n",
        "\n",
        "    -------------------\n",
        "    Parameters:\n",
        "        data:nd array       :   numpy array or pandas dataframe\n",
        "        window_size:int     :   size of the window\n",
        "        horizon_size:int    :   size of the horizon\n",
        "\n",
        "        stride:int          :   how much window slides on data\n",
        "        shift:int           :   gap between window and horizon(if needed) \n",
        "\n",
        "    '''\n",
        "    from sklearn.model_selection import train_test_split\n",
        "\n",
        "    def __init__(self, data: pd.DataFrame , window_size:int=7, horizon_size:int=1, label_columns_indices:list=None,label_columns_names:list = None, stride:int = 1, shift:int=0):\n",
        "        self.data = data\n",
        "        self.window_size = window_size\n",
        "        self.horizon_size = horizon_size\n",
        "        self.label_columns_indices = label_columns_indices\n",
        "        self.label_columns_names = label_columns_names\n",
        "        self.stride = stride\n",
        "        self.shift = shift\n",
        "\n",
        "\n",
        "\n",
        "\n",
        "        ## getting label indices\n",
        "        if type(self.data) == pd.core.frame.DataFrame:\n",
        "\n",
        "            self.column_indices = {name: i for i, name in\n",
        "                                enumerate(self.data.columns)}\n",
        "\n",
        "            if self.label_columns_names is not None:\n",
        "                self.label_columns_indices = [self.column_indices[name]  for name in\n",
        "                                        self.label_columns_names]\n",
        "            \n",
        "            # converting dataframe to ndarray\n",
        "            self.data = self.data.to_numpy()\n",
        "\n",
        "\n",
        "        # create a array of window size\n",
        "        self.window_size_array = np.arange(self.window_size + self.shift + self.horizon_size)\n",
        "\n",
        "        # create array with a forward shift\n",
        "        self.all_array_index = np.arange(len(self.data)- (self.window_size + self.shift + self.horizon_size -1), step = self.stride).reshape(-1,1) + self.window_size_array\n",
        "\n",
        "        # Spliting index in window and horizon\n",
        "        self.all_windows_index = self.all_array_index[:, :self.window_size]\n",
        "        self.all_horizons_index = self.all_array_index[:, self.window_size+self.shift:]\n",
        "\n",
        "\n",
        "        # actuall values of horizon and windows\n",
        "        self.all_windows = self.data[self.all_windows_index]\n",
        "        self.all_horizons_full = self.data[self.all_horizons_index] # contains all the labels\n",
        "\n",
        "        # Work out the label column indices.\n",
        "        if self.label_columns_indices is not None:\n",
        "            self.all_horizons = self.all_horizons_full[...,self.label_columns_indices]\n",
        "        \n",
        "        else:\n",
        "            self.all_horizons = self.all_horizons_full\n",
        "\n",
        "\n",
        "    def make_split(self):\n",
        "        return self.all_windows, self.all_horizons\n",
        "\n",
        "    # returns train, test or train, val, test as tuple\n",
        "    def train_test_val(self,test_size:float = .1, val_size:float = None,random = False, random_state:int = 2):\n",
        "        if random == True:\n",
        "            # creating test data of test_size\n",
        "            if test_size is not None:\n",
        "                if random:\n",
        "                    xtrain_rest, xtest, ytrain_rest, ytest = train_test_split(self.all_windows, self.all_horizons, test_size = test_size,shuffle=True, random_state = random_state)\n",
        "                else:\n",
        "                    xtrain_rest, xtest, ytrain_rest, ytest = train_test_split(self.all_windows, self.all_horizons, test_size = test_size, random_state = random_state)\n",
        "                if val_size is None:\n",
        "                    return (xtrain_rest, ytrain_rest), (xtest, ytest)\n",
        "                if val_size is not None:\n",
        "                    xtrain, xval, ytrain, yval = train_test_split(xtrain_rest, ytrain_rest, test_size = val_size, random_state = random_state)\n",
        "                    return (xtrain, ytrain),( xval, yval), (xtest, ytest)\n",
        "            else:\n",
        "                raise ValueError('test_size can not be None, To just create val data use test_size')\n",
        "\n",
        "        else:\n",
        "            # creating test data of test_size\n",
        "            if test_size is not None:\n",
        "                test_len = int(len(self.all_windows)* test_size)\n",
        "                xtrain_rest, xtest, ytrain_rest, ytest = self.all_windows[:-test_len], self.all_windows[-test_len:], self.all_horizons[:-test_len], self.all_horizons[-test_len:]\n",
        "                if val_size is None:\n",
        "                    return (xtrain_rest, ytrain_rest), (xtest, ytest)\n",
        "                if val_size is not None:\n",
        "\n",
        "                    val_len = int(len(xtrain_rest)* val_size)\n",
        "                    xtrain, xval, ytrain, yval = xtrain_rest[:-val_len], xtrain_rest[-val_len:], ytrain_rest[:-val_len], ytrain_rest[-val_len:]\n",
        "                    return (xtrain, ytrain),( xval, yval), (xtest, ytest)\n",
        "            else:\n",
        "                raise ValueError('test_size can not be None, To just create val data use test_size')           \n",
        "\n",
        "        \n",
        "\n",
        "    def plot(self, plot_cols:list=None, model = None, figsize = (15,5),**kwargs):\n",
        "        # plots data\n",
        "        plt.figure(figsize = figsize)\n",
        "        plt.grid(True)\n",
        "        for i, name in enumerate(plot_cols):\n",
        "            plt.subplot(len(plot_cols),1, i+1)\n",
        "            plt.plot(self.all_horizons_full[...,self.column_indices[name]], **kwargs)\n",
        "            plt.title(name)\n",
        "            # if model is not None:\n",
        "            #     predictions = model.pred\n",
        "            # plt.plot(self.all_horizons_full[...,self.columns_indices[name]])\n",
        "        plt.show()\n",
        "\n",
        "    def __repr__(self):\n",
        "        return '\\n'.join([\n",
        "                f'Total window size: {self.window_size}',\n",
        "                f'Horizon size: {self.horizon_size}',            # if model is not None:\n",
        "            #     predictions = model.pred\n",
        "            # plt.plot(self.all_horizons_full[...,self.columns_indices[name]])\n",
        "                f'Stride: {self.stride}',\n",
        "                f'Shift: {self.shift}'])"
      ]
    },
    {
      "cell_type": "code",
      "execution_count": 18,
      "metadata": {
        "id": "85gzrThedX2g"
      },
      "outputs": [],
      "source": [
        "wfull = WindowMaker(price, horizon_size=1, label_columns_names = [wanted])"
      ]
    },
    {
      "cell_type": "code",
      "execution_count": 19,
      "metadata": {
        "id": "Hnf5Rf0vdXze"
      },
      "outputs": [],
      "source": [
        "windows, horizons = wfull.make_split()"
      ]
    },
    {
      "cell_type": "code",
      "execution_count": 20,
      "metadata": {
        "id": "idv2p7_yJ0Bo",
        "outputId": "156b506f-7d39-4da0-cd51-c7032796e752",
        "colab": {
          "base_uri": "https://localhost:8080/"
        }
      },
      "outputs": [
        {
          "output_type": "execute_result",
          "data": {
            "text/plain": [
              "((1251, 7), (1251, 1))"
            ]
          },
          "metadata": {},
          "execution_count": 20
        }
      ],
      "source": [
        "windows.shape, horizons.shape"
      ]
    },
    {
      "cell_type": "code",
      "execution_count": 21,
      "metadata": {
        "id": "r0jNLitOJ0Bp",
        "outputId": "7688b7d1-e134-4dcb-e5a7-3fd8bb212726",
        "colab": {
          "base_uri": "https://localhost:8080/"
        }
      },
      "outputs": [
        {
          "output_type": "execute_result",
          "data": {
            "text/plain": [
              "array([[ 42.52766037],\n",
              "       [ 42.57770157],\n",
              "       [ 42.4275589 ],\n",
              "       ...,\n",
              "       [147.41000366],\n",
              "       [145.30999756],\n",
              "       [145.91000366]])"
            ]
          },
          "metadata": {},
          "execution_count": 21
        }
      ],
      "source": [
        "horizons"
      ]
    },
    {
      "cell_type": "code",
      "execution_count": 22,
      "metadata": {
        "id": "J7QDXPpae8K1"
      },
      "outputs": [],
      "source": [
        "train_data, val_data = wfull.train_test_val(random_state = 3)"
      ]
    },
    {
      "cell_type": "code",
      "execution_count": 23,
      "metadata": {
        "id": "UqlLnbYQJ0Bp",
        "outputId": "cf626bcf-3210-4b78-9739-eced6de69be1",
        "colab": {
          "base_uri": "https://localhost:8080/"
        }
      },
      "outputs": [
        {
          "output_type": "execute_result",
          "data": {
            "text/plain": [
              "((1126, 7), (1126, 1), (125, 7), (125, 1))"
            ]
          },
          "metadata": {},
          "execution_count": 23
        }
      ],
      "source": [
        "train_data[0].shape,train_data[1].shape , val_data[0].shape, val_data[1].shape"
      ]
    },
    {
      "cell_type": "code",
      "execution_count": 24,
      "metadata": {
        "id": "29ZcxaYx1H-L"
      },
      "outputs": [],
      "source": [
        "def compile_and_fit(model, train_data, val_data = None, epochs = 100, patience = 5, verbose = 1, ckpt_verbose = 1):\n",
        "\n",
        "    # callbacks\n",
        "    EarlyStopping = callbacks.EarlyStopping(monitor='mae', patience = patience )\n",
        "\n",
        "    filepath = os.path.join('modelckpt', model.name)\n",
        "\n",
        "    try:\n",
        "        os.makedirs(filepath)\n",
        "    except:\n",
        "        pass\n",
        "\n",
        "    ModelCheckpoint = callbacks.ModelCheckpoint(filepath= filepath,\n",
        "                                                monitor = 'val_loss',\n",
        "                                                verbose = ckpt_verbose,\n",
        "                                                save_best_only = True,\n",
        "                                                save_weights_only = True)\n",
        "    \n",
        "    # compile\n",
        "    model.compile(loss = 'mae',\n",
        "                  optimizer = 'adam',\n",
        "                  metrics = ['mse', 'mae'])\n",
        "    \n",
        "    history = model.fit(train_data, epochs = epochs, \n",
        "                        validation_data= val_data,\n",
        "                        batch_size = 32,\n",
        "                        verbose = verbose,\n",
        "                        callbacks = [ModelCheckpoint])\n",
        "    print('metrics order :Loss, MSE, MAE')\n",
        "    print('Train data Evaluation: ', model.evaluate(train_data))\n",
        "    print('Validation data Evaluation: ',model.evaluate(val_data))\n",
        "    \n",
        "    return history"
      ]
    },
    {
      "cell_type": "code",
      "execution_count": 25,
      "metadata": {
        "id": "8XDEUw6x4SbH"
      },
      "outputs": [],
      "source": [
        "def pred_plot(model, val_data, figsize = (25,7)):\n",
        "    x= val_data.unbatch().as_numpy_iterator()\n",
        "    yval = [i[1] for i in list(x)]\n",
        "    xval = [i[0] for i in list(x)]\n",
        "\n",
        "    # bigpred = []\n",
        "    print(xval)\n",
        "    ypred = tf.squeeze(model.predict(val_data))\n",
        "\n",
        "    # print(np.arange(1,len(ypred)+1))\n",
        "    #plot it \n",
        "    plt.figure(figsize = figsize)\n",
        "    plt.grid(True)\n",
        "    plt.plot(np.arange(1,len(ypred)+1),yval, marker = 'o', label = 'ytrue')\n",
        "    plt.plot(np.arange(1,len(ypred)+1),ypred, marker = 'x', label = 'ypred')\n",
        "    # plt.ylim(min(price), max(price))\n",
        "    plt.legend()\n",
        "    a = np.array(ypred)\n",
        "    b = np.array(yval)\n",
        "\n",
        "    mae = np.mean(np.abs(a-b)) \n",
        "    plt.title(f'mae: {mae}')"
      ]
    },
    {
      "cell_type": "code",
      "execution_count": 26,
      "metadata": {
        "id": "oJi59WxwbOo4"
      },
      "outputs": [],
      "source": [
        "# MASE implemented courtesy of sktime - https://github.com/alan-turing-institute/sktime/blob/ee7a06843a44f4aaec7582d847e36073a9ab0566/sktime/performance_metrics/forecasting/_functions.py#L16\n",
        "def mean_absolute_scaled_error(y_true, y_pred):\n",
        "    \"\"\"\n",
        "    Implement MASE (assuming no seasonality of data).\n",
        "    \"\"\"\n",
        "    mae = tf.reduce_mean(tf.abs(y_true - y_pred))\n",
        "\n",
        "    # Find MAE of naive forecast (no seasonality)\n",
        "    mae_naive_no_season = tf.reduce_mean(tf.abs(y_true[1:] - y_true[:-1])) # our seasonality is 1 day (hence the shifting of 1 day)\n",
        "\n",
        "    return mae / mae_naive_no_season"
      ]
    },
    {
      "cell_type": "code",
      "execution_count": 27,
      "metadata": {
        "id": "pKL5G85RZgUx"
      },
      "outputs": [],
      "source": [
        "def result(model: tf.keras.Model, test_data):\n",
        "    # Make sure float32 (for metric calculations)\n",
        "    x= test_data.unbatch().as_numpy_iterator()\n",
        "    y_true = [i[1] for i in list(x)]\n",
        "    y_true = tf.cast(y_true, dtype=tf.float32)\n",
        "    y_true = tf.squeeze(y_true)\n",
        "\n",
        "    y_pred = tf.squeeze(model.predict(test_data))\n",
        "\n",
        "    y_pred = tf.cast(y_pred, dtype=tf.float32)\n",
        "    # print(y_pred, y_true)\n",
        "    # Calculate various metrics\n",
        "    mae = tf.keras.metrics.mean_absolute_error(y_true, y_pred)\n",
        "    mse = tf.keras.metrics.mean_squared_error(y_true, y_pred) # puts and emphasis on outliers (all errors get squared)\n",
        "    rmse = tf.sqrt(mse)\n",
        "    mape = tf.keras.metrics.mean_absolute_percentage_error(y_true, y_pred)\n",
        "    mase = mean_absolute_scaled_error(y_true, y_pred)\n",
        "\n",
        "    result =  {\"mae\": mae.numpy(),\n",
        "            \"mse\": mse.numpy(),\n",
        "            \"rmse\": rmse.numpy(),\n",
        "            \"mape\": mape.numpy(),\n",
        "            \"mase\": mase.numpy()}\n",
        "\n",
        "    # print(result)\n",
        "    return result"
      ]
    },
    {
      "cell_type": "markdown",
      "metadata": {
        "id": "2rZGYZ1ggPn-"
      },
      "source": [
        "## Spliting the dataset ( Train, Test, Val)\n"
      ]
    },
    {
      "cell_type": "code",
      "execution_count": 28,
      "metadata": {
        "id": "R4RwkMkJJ0Bq"
      },
      "outputs": [],
      "source": [
        "wfull = WindowMaker(price, horizon_size=1, label_columns_names = [wanted])"
      ]
    },
    {
      "cell_type": "code",
      "execution_count": 29,
      "metadata": {
        "id": "bDGHguJTJ0Bq",
        "outputId": "db83c6fa-1a34-4aba-a77c-7b959ddf09af",
        "colab": {
          "base_uri": "https://localhost:8080/"
        }
      },
      "outputs": [
        {
          "output_type": "execute_result",
          "data": {
            "text/plain": [
              "Total window size: 7\n",
              "Horizon size: 1\n",
              "Stride: 1\n",
              "Shift: 0"
            ]
          },
          "metadata": {},
          "execution_count": 29
        }
      ],
      "source": [
        "wfull"
      ]
    },
    {
      "cell_type": "code",
      "execution_count": 30,
      "metadata": {
        "id": "55xnx4UcJ0Bq"
      },
      "outputs": [],
      "source": [
        "windows, horizons = wfull.make_split()"
      ]
    },
    {
      "cell_type": "code",
      "execution_count": 31,
      "metadata": {
        "id": "4uRUFIRbJ0Bq",
        "outputId": "e2dd779f-5443-418f-8648-6e2075904b07",
        "colab": {
          "base_uri": "https://localhost:8080/"
        }
      },
      "outputs": [
        {
          "output_type": "execute_result",
          "data": {
            "text/plain": [
              "((1251, 7), (1251, 1))"
            ]
          },
          "metadata": {},
          "execution_count": 31
        }
      ],
      "source": [
        "windows.shape, horizons.shape"
      ]
    },
    {
      "cell_type": "code",
      "execution_count": 32,
      "metadata": {
        "id": "tGAqOaMGJ0Br"
      },
      "outputs": [],
      "source": [
        "def make_dataset(self, data):\n",
        "    data = np.array(data, dtype=np.float32)\n",
        "    ds = tf.keras.utils.timeseries_dataset_from_array(\n",
        "      data=data,\n",
        "      targets=None,\n",
        "      sequence_length=self.total_window_size,\n",
        "      sequence_stride=1,\n",
        "      shuffle=True,\n",
        "      batch_size=32,)\n",
        "\n",
        "    ds = ds.map(self.split_window)\n",
        "\n",
        "    return ds\n",
        "\n",
        "WindowMaker.make_dataset = make_dataset"
      ]
    },
    {
      "cell_type": "code",
      "execution_count": 33,
      "metadata": {
        "id": "wEGPx-S1J0Br"
      },
      "outputs": [],
      "source": [
        "train_data, val_data, test_data = wfull.train_test_val(test_size=.1, val_size=.1,random_state = 3)"
      ]
    },
    {
      "cell_type": "code",
      "execution_count": 34,
      "metadata": {
        "id": "ru1TqXtTJ0Br"
      },
      "outputs": [],
      "source": [
        "BATCH_SIZE = 32"
      ]
    },
    {
      "cell_type": "code",
      "execution_count": 35,
      "metadata": {
        "id": "_8hG4ulWIBYw"
      },
      "outputs": [],
      "source": [
        "train_data = tf.data.Dataset.from_tensor_slices(train_data).batch(BATCH_SIZE)\n",
        "val_data = tf.data.Dataset.from_tensor_slices(val_data).batch(BATCH_SIZE)\n",
        "test_data = tf.data.Dataset.from_tensor_slices(test_data).batch(BATCH_SIZE)"
      ]
    },
    {
      "cell_type": "code",
      "execution_count": 36,
      "metadata": {
        "id": "a7YNXI3hJ0Br",
        "outputId": "13078565-a232-491f-c723-84413344ffd1",
        "colab": {
          "base_uri": "https://localhost:8080/"
        }
      },
      "outputs": [
        {
          "output_type": "stream",
          "name": "stdout",
          "text": [
            "train_data:  1024 :: <BatchDataset element_spec=(TensorSpec(shape=(None, 7), dtype=tf.float64, name=None), TensorSpec(shape=(None, 1), dtype=tf.float64, name=None))>\n",
            "val_data:     128 :: <BatchDataset element_spec=(TensorSpec(shape=(None, 7), dtype=tf.float64, name=None), TensorSpec(shape=(None, 1), dtype=tf.float64, name=None))>\n",
            "test_data:    128 :: <BatchDataset element_spec=(TensorSpec(shape=(None, 7), dtype=tf.float64, name=None), TensorSpec(shape=(None, 1), dtype=tf.float64, name=None))> \n"
          ]
        }
      ],
      "source": [
        "print(f'train_data:  {len(train_data)*BATCH_SIZE:2} :: {train_data}')\n",
        "print(f'val_data:    {len(val_data)*BATCH_SIZE:4} :: {val_data}')\n",
        "print(f'test_data:   {len(test_data)*BATCH_SIZE:4} :: {test_data} ')"
      ]
    },
    {
      "cell_type": "markdown",
      "metadata": {
        "id": "hlCTEq5NV_jl"
      },
      "source": [
        "# Model 0: Persistence Algorithm (the “naive” forecast)\n",
        "The most common baseline method for supervised machine learning is the Zero Rule algorithm.\n",
        "\n",
        "This algorithm predicts the majority class in the case of classification, or the average outcome in the case of regression. This could be used for time series, but does not respect the serial correlation structure in time series datasets.\n",
        "\n",
        "The equivalent technique for use with time series dataset is the persistence algorithm.\n",
        "\n",
        "The persistence algorithm uses the value at the previous time step (t-1) to predict the expected outcome at the next time step (t+1).\n",
        "\n",
        "This satisfies the three above conditions for a baseline forecast.\n",
        "\n",
        "To make this concrete, we will look at how to develop a persistence model and use it to establish a baseline performance for a simple univariate time series problem. First, let’s review the Shampoo Sales dataset.\n",
        "\n"
      ]
    },
    {
      "cell_type": "code",
      "execution_count": 37,
      "metadata": {
        "colab": {
          "base_uri": "https://localhost:8080/"
        },
        "id": "tnJunk6voCm1",
        "outputId": "15547a57-b666-469d-f12e-7fe6df9d565c"
      },
      "outputs": [
        {
          "output_type": "execute_result",
          "data": {
            "text/plain": [
              "array([[49, 59, 43, 37],\n",
              "       [25, 72, 50, 60],\n",
              "       [44, 35,  8, 33],\n",
              "       [79, 49, 25, 48]])"
            ]
          },
          "metadata": {},
          "execution_count": 37
        }
      ],
      "source": [
        "rand_int = np.random.randint(5,100, (4,1,1,1,4))  \n",
        "rand_int = np.squeeze(rand_int)\n",
        "\n",
        "rand_int"
      ]
    },
    {
      "cell_type": "code",
      "execution_count": 38,
      "metadata": {
        "id": "rXoeOqXwVa06"
      },
      "outputs": [],
      "source": [
        "# Baseline\n",
        "# it just returns a value ahead ( basically predicting the Exact future)\n",
        "\n",
        "class Baseline(tf.keras.Model):\n",
        "\n",
        "    def __init__(self):\n",
        "        super().__init__()\n",
        "        # self.label_index = label_index\n",
        "\n",
        "    \n",
        "    def call(self, inputs):\n",
        "        # x = self.dense1(inputs)\n",
        "        # if training:\n",
        "        #   x = self.dropout(x, training=training)\n",
        "        tf.print(inputs[1])\n",
        "        return inputs\n",
        "    def predict(self, inputs):\n",
        "        x= inputs.unbatch().as_numpy_iterator()\n",
        "        y_true = [i[1] for i in list(x)]\n",
        "        y_true = tf.cast(y_true, dtype=tf.float32)\n",
        "        # y_true = y_true[:, :, tf.newaxis]\n",
        "        # tf.print(inputs[1])\n",
        "        return y_true\n"
      ]
    },
    {
      "cell_type": "code",
      "execution_count": 39,
      "metadata": {
        "id": "uurTUwVHJ0Bs",
        "outputId": "d8f920ed-d90d-4b55-97ea-6f4fd5c92963",
        "colab": {
          "base_uri": "https://localhost:8080/"
        }
      },
      "outputs": [
        {
          "output_type": "execute_result",
          "data": {
            "text/plain": [
              "{'Open': 0, 'High': 1, 'Low': 2, 'Close': 3, 'Adj Close': 4, 'Volume': 5}"
            ]
          },
          "metadata": {},
          "execution_count": 39
        }
      ],
      "source": [
        "column_indices = {col: idx for idx, col in enumerate(df)}\n",
        "column_indices"
      ]
    },
    {
      "cell_type": "code",
      "execution_count": 40,
      "metadata": {
        "id": "rLV_C9CoJ0Bs"
      },
      "outputs": [],
      "source": [
        "baseline = Baseline() #(label_index=column_indices[wanted])\n",
        "\n",
        "baseline.compile(loss=tf.keras.losses.MeanSquaredError(),\n",
        "                 metrics=[tf.keras.metrics.MeanAbsoluteError()])\n"
      ]
    },
    {
      "cell_type": "code",
      "execution_count": 41,
      "metadata": {
        "id": "eori1GWVJ0Bs",
        "outputId": "8d0f74fe-ef20-4d83-fd7a-fd0576d3a016",
        "colab": {
          "base_uri": "https://localhost:8080/"
        }
      },
      "outputs": [
        {
          "output_type": "stream",
          "name": "stdout",
          "text": [
            "[154.156158 158.629059 159.652878 ... 164.384216 167.803497 169.185135]\n",
            "1/4 [======>.......................] - ETA: 6s - loss: 38.3702 - mean_absolute_error: 4.8719[156.700745 157.008881 158.51973 ... 155.826065 156.562668 151.366486]\n",
            "[134.812317 129.466812 130.959976 ... 134.732697 137.639374 141.013916]\n",
            "[159.280212 165.372314 165.053772 ... 164.346024 164.395859 168.702148]\n",
            "4/4 [==============================] - 2s 22ms/step - loss: 42.2246 - mean_absolute_error: 5.2143\n"
          ]
        },
        {
          "output_type": "execute_result",
          "data": {
            "text/plain": [
              "[42.22459030151367, 5.2142510414123535]"
            ]
          },
          "metadata": {},
          "execution_count": 41
        }
      ],
      "source": [
        "eval1 = baseline.evaluate(val_data)\n",
        "eval1"
      ]
    },
    {
      "cell_type": "code",
      "execution_count": 42,
      "metadata": {
        "id": "75aoSgi6J0Bt"
      },
      "outputs": [],
      "source": [
        "\n",
        "val_performance = {}\n",
        "performance = {}\n",
        "\n",
        "val_performance['Baseline'] = {'mae': None,\n",
        "                               'mse': None,\n",
        "                               'rmse': None,\n",
        "                               'mape': None,\n",
        "                               'mase': None}\n"
      ]
    },
    {
      "cell_type": "code",
      "execution_count": 43,
      "metadata": {
        "id": "qCs1BihLJ0Bt",
        "outputId": "ca571c83-82c2-484a-c270-4b2a9e2b4b2a",
        "colab": {
          "base_uri": "https://localhost:8080/"
        }
      },
      "outputs": [
        {
          "output_type": "execute_result",
          "data": {
            "text/plain": [
              "{'Baseline': {'mae': None,\n",
              "  'mse': None,\n",
              "  'rmse': None,\n",
              "  'mape': None,\n",
              "  'mase': None}}"
            ]
          },
          "metadata": {},
          "execution_count": 43
        }
      ],
      "source": [
        "val_performance"
      ]
    },
    {
      "cell_type": "code",
      "execution_count": 44,
      "metadata": {
        "id": "oGqdfmudJ0Bt"
      },
      "outputs": [],
      "source": [
        "# result(Baseline, test_data)"
      ]
    },
    {
      "cell_type": "code",
      "execution_count": 45,
      "metadata": {
        "colab": {
          "base_uri": "https://localhost:8080/",
          "height": 461
        },
        "id": "1Q-RVgobWmEX",
        "outputId": "742cd474-d555-4782-e098-d8a614626e56"
      },
      "outputs": [
        {
          "output_type": "stream",
          "name": "stdout",
          "text": [
            "[]\n"
          ]
        },
        {
          "output_type": "display_data",
          "data": {
            "text/plain": [
              "<Figure size 1800x504 with 1 Axes>"
            ],
            "image/png": "[encoded data removed]"
          },
          "metadata": {
            "needs_background": "light"
          }
        }
      ],
      "source": [
        "pred_plot(baseline, val_data)"
      ]
    },
    {
      "cell_type": "markdown",
      "metadata": {
        "id": "TakE9OyYznS1"
      },
      "source": [
        "# Model 1 : a Dense Model"
      ]
    },
    {
      "cell_type": "code",
      "execution_count": 46,
      "metadata": {
        "id": "8AYvEXSy1IBT"
      },
      "outputs": [],
      "source": [
        "\n",
        "model1 = keras.Sequential([\n",
        "    layers.Dense(128, activation = 'relu'),\n",
        "    layers.Dense(1)\n",
        "], name = 'model1_dense')"
      ]
    },
    {
      "cell_type": "code",
      "execution_count": 47,
      "metadata": {
        "colab": {
          "base_uri": "https://localhost:8080/"
        },
        "id": "Smtfoz_GESul",
        "outputId": "5e62e2e4-00b7-4375-9a11-d08d0ca39ef4"
      },
      "outputs": [
        {
          "output_type": "stream",
          "name": "stdout",
          "text": [
            "metrics order :Loss, MSE, MAE\n",
            "32/32 [==============================] - 0s 3ms/step - loss: 1.3002 - mse: 3.8022 - mae: 1.3002\n",
            "Train data Evaluation:  [1.3001539707183838, 3.80220103263855, 1.3001539707183838]\n",
            "4/4 [==============================] - 0s 6ms/step - loss: 2.6684 - mse: 11.2506 - mae: 2.6684\n",
            "Validation data Evaluation:  [2.6684231758117676, 11.250550270080566, 2.6684231758117676]\n"
          ]
        },
        {
          "output_type": "execute_result",
          "data": {
            "text/plain": [
              "<keras.callbacks.History at 0x7fc4644e5550>"
            ]
          },
          "metadata": {},
          "execution_count": 47
        }
      ],
      "source": [
        "compile_and_fit(model1, train_data, val_data,epochs = 200, verbose = 0, ckpt_verbose = 0)"
      ]
    },
    {
      "cell_type": "code",
      "execution_count": 48,
      "metadata": {
        "colab": {
          "base_uri": "https://localhost:8080/",
          "height": 479
        },
        "id": "6ODkJl_f5yMs",
        "outputId": "28b2080e-939c-4c8e-b553-1a1419794e9b"
      },
      "outputs": [
        {
          "output_type": "stream",
          "name": "stdout",
          "text": [
            "[]\n",
            "4/4 [==============================] - 0s 4ms/step\n"
          ]
        },
        {
          "output_type": "display_data",
          "data": {
            "text/plain": [
              "<Figure size 1800x504 with 1 Axes>"
            ],
            "image/png": "[encoded data removed]"
          },
          "metadata": {
            "needs_background": "light"
          }
        }
      ],
      "source": [
        "pred_plot(model1, val_data)"
      ]
    },
    {
      "cell_type": "markdown",
      "metadata": {
        "id": "Fmf_kkaQI9xD"
      },
      "source": [
        "The Graph above shows the comparison between actual points and predicted points only. \n",
        "Note: Predicted prices are not very diffe"
      ]
    },
    {
      "cell_type": "code",
      "execution_count": 49,
      "metadata": {
        "colab": {
          "base_uri": "https://localhost:8080/"
        },
        "id": "Cwv35AzT8vqD",
        "outputId": "798ca696-4b43-479a-a962-cd3a6e33ac4f"
      },
      "outputs": [
        {
          "output_type": "stream",
          "name": "stdout",
          "text": [
            "4/4 [==============================] - 0s 4ms/step\n"
          ]
        }
      ],
      "source": [
        "val_performance['model1'] = result(model1, val_data)"
      ]
    },
    {
      "cell_type": "code",
      "execution_count": 50,
      "metadata": {
        "id": "HNNSYgWYJ0Bu",
        "outputId": "0b7bac65-9cf9-48b8-f196-9bf600fb823c",
        "colab": {
          "base_uri": "https://localhost:8080/"
        }
      },
      "outputs": [
        {
          "output_type": "execute_result",
          "data": {
            "text/plain": [
              "{'Baseline': {'mae': None,\n",
              "  'mse': None,\n",
              "  'rmse': None,\n",
              "  'mape': None,\n",
              "  'mase': None},\n",
              " 'model1': {'mae': 2.6684222,\n",
              "  'mse': 11.250547,\n",
              "  'rmse': 3.3541837,\n",
              "  'mape': 1.7459888,\n",
              "  'mase': 1.0094334}}"
            ]
          },
          "metadata": {},
          "execution_count": 50
        }
      ],
      "source": [
        "val_performance"
      ]
    },
    {
      "cell_type": "code",
      "execution_count": 50,
      "metadata": {
        "id": "jBxg93zxQ-mN"
      },
      "outputs": [],
      "source": []
    },
    {
      "cell_type": "markdown",
      "metadata": {
        "id": "igt9YCsmJ0Bu"
      },
      "source": [
        "# Model 2 : a LSTM Model"
      ]
    },
    {
      "cell_type": "code",
      "execution_count": 51,
      "metadata": {
        "id": "5ZkVKt1VJ0Bu"
      },
      "outputs": [],
      "source": [
        "@tf.function\n",
        "def add_axis(x):\n",
        "    # print(x.shape)\n",
        "    x = x[:,:,tf.newaxis]\n",
        "    # print(x.shape)\n",
        "    return x"
      ]
    },
    {
      "cell_type": "code",
      "execution_count": 52,
      "metadata": {
        "id": "aBY3rBbdJ0Bu"
      },
      "outputs": [],
      "source": [
        "xxx  = val_data.unbatch().as_numpy_iterator()\n",
        "xxy = [i[0] for i in xxx]\n",
        "xxy = np.array(xxy)"
      ]
    },
    {
      "cell_type": "code",
      "execution_count": 53,
      "metadata": {
        "id": "j-_XrC5rJ0Bu"
      },
      "outputs": [],
      "source": [
        "# xxy = add_axis(xxy)\n",
        "# xxy"
      ]
    },
    {
      "cell_type": "code",
      "execution_count": 54,
      "metadata": {
        "id": "6_ynXIhpJ0Bu"
      },
      "outputs": [],
      "source": [
        "\n",
        "model2 = keras.Sequential([\n",
        "    layers.Lambda(add_axis),\n",
        "    layers.LSTM(128),\n",
        "    layers.Dense(1)\n",
        "], name = 'model2_lstm')"
      ]
    },
    {
      "cell_type": "code",
      "execution_count": 55,
      "metadata": {
        "colab": {
          "base_uri": "https://localhost:8080/"
        },
        "id": "Qmc3X8HgJ0Bv",
        "outputId": "f4cd615e-ef61-4294-bf60-0fe79311333a"
      },
      "outputs": [
        {
          "output_type": "stream",
          "name": "stdout",
          "text": [
            "metrics order :Loss, MSE, MAE\n",
            "32/32 [==============================] - 0s 6ms/step - loss: 4.4160 - mse: 28.1387 - mae: 4.4160\n",
            "Train data Evaluation:  [4.416045665740967, 28.138694763183594, 4.416045665740967]\n",
            "4/4 [==============================] - 0s 8ms/step - loss: 5.5885 - mse: 42.6690 - mae: 5.5885\n",
            "Validation data Evaluation:  [5.5885009765625, 42.66903305053711, 5.5885009765625]\n"
          ]
        },
        {
          "output_type": "execute_result",
          "data": {
            "text/plain": [
              "<keras.callbacks.History at 0x7fc468817700>"
            ]
          },
          "metadata": {},
          "execution_count": 55
        }
      ],
      "source": [
        "compile_and_fit(model2, train_data, val_data,epochs = 200, verbose = 0, ckpt_verbose = 0)"
      ]
    },
    {
      "cell_type": "code",
      "execution_count": 56,
      "metadata": {
        "colab": {
          "base_uri": "https://localhost:8080/",
          "height": 479
        },
        "id": "xER7RDFBJ0Bv",
        "outputId": "7c621188-c38f-47f1-fc7b-5e8624da3ac6"
      },
      "outputs": [
        {
          "output_type": "stream",
          "name": "stdout",
          "text": [
            "[]\n",
            "4/4 [==============================] - 1s 6ms/step\n"
          ]
        },
        {
          "output_type": "display_data",
          "data": {
            "text/plain": [
              "<Figure size 1800x504 with 1 Axes>"
            ],
            "image/png": "[encoded data removed]"
          },
          "metadata": {
            "needs_background": "light"
          }
        }
      ],
      "source": [
        "pred_plot(model2, val_data)"
      ]
    },
    {
      "cell_type": "markdown",
      "metadata": {
        "id": "6Cb00K2PJ0Bv"
      },
      "source": [
        "The Graph above shows the comparison between actual points and predicted points only. \n",
        "Note: Predicted prices are not very diffe"
      ]
    },
    {
      "cell_type": "code",
      "execution_count": 57,
      "metadata": {
        "colab": {
          "base_uri": "https://localhost:8080/"
        },
        "id": "gwc3CEAAJ0Bv",
        "outputId": "13831f45-bb1e-4249-e188-49a306c1d9ae"
      },
      "outputs": [
        {
          "output_type": "stream",
          "name": "stdout",
          "text": [
            "4/4 [==============================] - 0s 6ms/step\n"
          ]
        }
      ],
      "source": [
        "val_performance['model2'] = result(model2, val_data)"
      ]
    },
    {
      "cell_type": "code",
      "execution_count": 58,
      "metadata": {
        "id": "3huc5lE-J0Bv",
        "outputId": "3903c55d-eb32-4f77-b693-b9a40dcf5184",
        "colab": {
          "base_uri": "https://localhost:8080/"
        }
      },
      "outputs": [
        {
          "output_type": "execute_result",
          "data": {
            "text/plain": [
              "{'Baseline': {'mae': None,\n",
              "  'mse': None,\n",
              "  'rmse': None,\n",
              "  'mape': None,\n",
              "  'mase': None},\n",
              " 'model1': {'mae': 2.6684222,\n",
              "  'mse': 11.250547,\n",
              "  'rmse': 3.3541837,\n",
              "  'mape': 1.7459888,\n",
              "  'mase': 1.0094334},\n",
              " 'model2': {'mae': 5.588502,\n",
              "  'mse': 42.66904,\n",
              "  'rmse': 6.5321546,\n",
              "  'mape': 3.5864341,\n",
              "  'mase': 2.114066}}"
            ]
          },
          "metadata": {},
          "execution_count": 58
        }
      ],
      "source": [
        "val_performance"
      ]
    },
    {
      "cell_type": "code",
      "execution_count": 58,
      "metadata": {
        "id": "0FxXBtinJ0Bv"
      },
      "outputs": [],
      "source": []
    },
    {
      "cell_type": "markdown",
      "metadata": {
        "id": "YLTun4rcJ0Bv"
      },
      "source": [
        "# Model 3 : a LSTM with State Model"
      ]
    },
    {
      "cell_type": "code",
      "execution_count": 59,
      "metadata": {
        "id": "sYCXfHReJ0Bv"
      },
      "outputs": [],
      "source": [
        "@tf.function\n",
        "def add_axis(x):\n",
        "    # print(x.shape)\n",
        "    x = x[:,:,tf.newaxis]\n",
        "    # print(x.shape)\n",
        "    return x"
      ]
    },
    {
      "cell_type": "code",
      "execution_count": 60,
      "metadata": {
        "id": "X8ulEPylJ0Bw"
      },
      "outputs": [],
      "source": [
        "\n",
        "inputs3 = keras.Input(shape=(1)    )\n",
        "x = layers.Lambda(add_axis)(inputs3)\n",
        "x = layers.LSTM(7,return_sequences=True, return_state=True)(x)\n",
        "x = layers.LSTM(7)(x)\n",
        "# outputs3 = layers.MaxPooling1D()(x)\n",
        "outputs3 = layers.Dense(1)(x)\n",
        " \n",
        "model3 = keras.Model(inputs = inputs3, outputs = outputs3, name = 'model3_lstm')\n",
        "\n"
      ]
    },
    {
      "cell_type": "code",
      "execution_count": 61,
      "metadata": {
        "colab": {
          "base_uri": "https://localhost:8080/"
        },
        "id": "jFM_o2pdJ0Bw",
        "outputId": "9a611828-d906-4b3e-81d1-8db30642e76b"
      },
      "outputs": [
        {
          "output_type": "stream",
          "name": "stderr",
          "text": [
            "WARNING:tensorflow:Model was constructed with shape (None, 1) for input KerasTensor(type_spec=TensorSpec(shape=(None, 1), dtype=tf.float32, name='input_1'), name='input_1', description=\"created by layer 'input_1'\"), but it was called on an input with incompatible shape (None, 7).\n",
            "WARNING:tensorflow:Model was constructed with shape (None, 1) for input KerasTensor(type_spec=TensorSpec(shape=(None, 1), dtype=tf.float32, name='input_1'), name='input_1', description=\"created by layer 'input_1'\"), but it was called on an input with incompatible shape (None, 7).\n",
            "WARNING:tensorflow:Model was constructed with shape (None, 1) for input KerasTensor(type_spec=TensorSpec(shape=(None, 1), dtype=tf.float32, name='input_1'), name='input_1', description=\"created by layer 'input_1'\"), but it was called on an input with incompatible shape (None, 7).\n"
          ]
        },
        {
          "output_type": "stream",
          "name": "stdout",
          "text": [
            "metrics order :Loss, MSE, MAE\n",
            "32/32 [==============================] - 0s 4ms/step - loss: 42.0016 - mse: 3370.0928 - mae: 42.0016\n",
            "Train data Evaluation:  [42.001617431640625, 3370.0927734375, 42.001617431640625]\n",
            "4/4 [==============================] - 0s 5ms/step - loss: 104.6022 - mse: 11110.0791 - mae: 104.6022\n",
            "Validation data Evaluation:  [104.60215759277344, 11110.0791015625, 104.60215759277344]\n"
          ]
        },
        {
          "output_type": "execute_result",
          "data": {
            "text/plain": [
              "<keras.callbacks.History at 0x7fc45206f580>"
            ]
          },
          "metadata": {},
          "execution_count": 61
        }
      ],
      "source": [
        "compile_and_fit(model3, train_data, val_data, epochs = 200, verbose = 0, ckpt_verbose = 0)"
      ]
    },
    {
      "cell_type": "code",
      "execution_count": 62,
      "metadata": {
        "colab": {
          "base_uri": "https://localhost:8080/",
          "height": 479
        },
        "id": "HO8hRaMBJ0Bw",
        "outputId": "abd8fe86-d829-4be9-80b9-c94ee459b5c8"
      },
      "outputs": [
        {
          "output_type": "stream",
          "name": "stdout",
          "text": [
            "[]\n",
            "4/4 [==============================] - 0s 6ms/step\n"
          ]
        },
        {
          "output_type": "display_data",
          "data": {
            "text/plain": [
              "<Figure size 1800x504 with 1 Axes>"
            ],
            "image/png": "[encoded data removed]"
          },
          "metadata": {
            "needs_background": "light"
          }
        }
      ],
      "source": [
        "pred_plot(model2, val_data)"
      ]
    },
    {
      "cell_type": "markdown",
      "metadata": {
        "id": "OjYIiyTxJ0Bw"
      },
      "source": [
        "The Graph above shows the comparison between actual points and predicted points only. \n",
        "Note: Predicted prices are not very diffe"
      ]
    },
    {
      "cell_type": "code",
      "execution_count": 63,
      "metadata": {
        "colab": {
          "base_uri": "https://localhost:8080/"
        },
        "id": "OevUbO7bJ0Bw",
        "outputId": "9c0cc7cf-d611-44a9-e60d-ce5fd6015d9b"
      },
      "outputs": [
        {
          "output_type": "stream",
          "name": "stderr",
          "text": [
            "WARNING:tensorflow:Model was constructed with shape (None, 1) for input KerasTensor(type_spec=TensorSpec(shape=(None, 1), dtype=tf.float32, name='input_1'), name='input_1', description=\"created by layer 'input_1'\"), but it was called on an input with incompatible shape (None, 7).\n"
          ]
        },
        {
          "output_type": "stream",
          "name": "stdout",
          "text": [
            "4/4 [==============================] - 1s 5ms/step\n"
          ]
        }
      ],
      "source": [
        "val_performance['model3'] = result(model3, val_data)"
      ]
    },
    {
      "cell_type": "code",
      "execution_count": 64,
      "metadata": {
        "id": "dwBnuk_2J0Bw",
        "outputId": "12d08e5e-3e21-408b-ce79-e4d8ca7102c6",
        "colab": {
          "base_uri": "https://localhost:8080/",
          "height": 206
        }
      },
      "outputs": [
        {
          "output_type": "execute_result",
          "data": {
            "text/plain": [
              "     Baseline     model1     model2        model3\n",
              "mae      None   2.668422   5.588502    104.602158\n",
              "mse      None  11.250547  42.669041  11110.080078\n",
              "rmse     None   3.354184   6.532155    105.404366\n",
              "mape     None   1.745989   3.586434     67.236641\n",
              "mase     None   1.009433   2.114066     39.569790"
            ],
            "text/html": [
              "\n",
              "  <div id=\"df-257c439b-1bc7-46fa-8988-66d320aa16ba\">\n",
              "    <div class=\"colab-df-container\">\n",
              "      <div>\n",
              "<style scoped>\n",
              "    .dataframe tbody tr th:only-of-type {\n",
              "        vertical-align: middle;\n",
              "    }\n",
              "\n",
              "    .dataframe tbody tr th {\n",
              "        vertical-align: top;\n",
              "    }\n",
              "\n",
              "    .dataframe thead th {\n",
              "        text-align: right;\n",
              "    }\n",
              "</style>\n",
              "<table border=\"1\" class=\"dataframe\">\n",
              "  <thead>\n",
              "    <tr style=\"text-align: right;\">\n",
              "      <th></th>\n",
              "      <th>Baseline</th>\n",
              "      <th>model1</th>\n",
              "      <th>model2</th>\n",
              "      <th>model3</th>\n",
              "    </tr>\n",
              "  </thead>\n",
              "  <tbody>\n",
              "    <tr>\n",
              "      <th>mae</th>\n",
              "      <td>None</td>\n",
              "      <td>2.668422</td>\n",
              "      <td>5.588502</td>\n",
              "      <td>104.602158</td>\n",
              "    </tr>\n",
              "    <tr>\n",
              "      <th>mse</th>\n",
              "      <td>None</td>\n",
              "      <td>11.250547</td>\n",
              "      <td>42.669041</td>\n",
              "      <td>11110.080078</td>\n",
              "    </tr>\n",
              "    <tr>\n",
              "      <th>rmse</th>\n",
              "      <td>None</td>\n",
              "      <td>3.354184</td>\n",
              "      <td>6.532155</td>\n",
              "      <td>105.404366</td>\n",
              "    </tr>\n",
              "    <tr>\n",
              "      <th>mape</th>\n",
              "      <td>None</td>\n",
              "      <td>1.745989</td>\n",
              "      <td>3.586434</td>\n",
              "      <td>67.236641</td>\n",
              "    </tr>\n",
              "    <tr>\n",
              "      <th>mase</th>\n",
              "      <td>None</td>\n",
              "      <td>1.009433</td>\n",
              "      <td>2.114066</td>\n",
              "      <td>39.569790</td>\n",
              "    </tr>\n",
              "  </tbody>\n",
              "</table>\n",
              "</div>\n",
              "      <button class=\"colab-df-convert\" onclick=\"convertToInteractive('df-257c439b-1bc7-46fa-8988-66d320aa16ba')\"\n",
              "              title=\"Convert this dataframe to an interactive table.\"\n",
              "              style=\"display:none;\">\n",
              "        \n",
              "  <svg xmlns=\"http://www.w3.org/2000/svg\" height=\"24px\"viewBox=\"0 0 24 24\"\n",
              "       width=\"24px\">\n",
              "    <path d=\"M0 0h24v24H0V0z\" fill=\"none\"/>\n",
              "    <path d=\"M18.56 5.44l.94 2.06.94-2.06 2.06-.94-2.06-.94-.94-2.06-.94 2.06-2.06.94zm-11 1L8.5 8.5l.94-2.06 2.06-.94-2.06-.94L8.5 2.5l-.94 2.06-2.06.94zm10 10l.94 2.06.94-2.06 2.06-.94-2.06-.94-.94-2.06-.94 2.06-2.06.94z\"/><path d=\"M17.41 7.96l-1.37-1.37c-.4-.4-.92-.59-1.43-.59-.52 0-1.04.2-1.43.59L10.3 9.45l-7.72 7.72c-.78.78-.78 2.05 0 2.83L4 21.41c.39.39.9.59 1.41.59.51 0 1.02-.2 1.41-.59l7.78-7.78 2.81-2.81c.8-.78.8-2.07 0-2.86zM5.41 20L4 18.59l7.72-7.72 1.47 1.35L5.41 20z\"/>\n",
              "  </svg>\n",
              "      </button>\n",
              "      \n",
              "  <style>\n",
              "    .colab-df-container {\n",
              "      display:flex;\n",
              "      flex-wrap:wrap;\n",
              "      gap: 12px;\n",
              "    }\n",
              "\n",
              "    .colab-df-convert {\n",
              "      background-color: #E8F0FE;\n",
              "      border: none;\n",
              "      border-radius: 50%;\n",
              "      cursor: pointer;\n",
              "      display: none;\n",
              "      fill: #1967D2;\n",
              "      height: 32px;\n",
              "      padding: 0 0 0 0;\n",
              "      width: 32px;\n",
              "    }\n",
              "\n",
              "    .colab-df-convert:hover {\n",
              "      background-color: #E2EBFA;\n",
              "      box-shadow: 0px 1px 2px rgba(60, 64, 67, 0.3), 0px 1px 3px 1px rgba(60, 64, 67, 0.15);\n",
              "      fill: #174EA6;\n",
              "    }\n",
              "\n",
              "    [theme=dark] .colab-df-convert {\n",
              "      background-color: #3B4455;\n",
              "      fill: #D2E3FC;\n",
              "    }\n",
              "\n",
              "    [theme=dark] .colab-df-convert:hover {\n",
              "      background-color: #434B5C;\n",
              "      box-shadow: 0px 1px 3px 1px rgba(0, 0, 0, 0.15);\n",
              "      filter: drop-shadow(0px 1px 2px rgba(0, 0, 0, 0.3));\n",
              "      fill: #FFFFFF;\n",
              "    }\n",
              "  </style>\n",
              "\n",
              "      <script>\n",
              "        const buttonEl =\n",
              "          document.querySelector('#df-257c439b-1bc7-46fa-8988-66d320aa16ba button.colab-df-convert');\n",
              "        buttonEl.style.display =\n",
              "          google.colab.kernel.accessAllowed ? 'block' : 'none';\n",
              "\n",
              "        async function convertToInteractive(key) {\n",
              "          const element = document.querySelector('#df-257c439b-1bc7-46fa-8988-66d320aa16ba');\n",
              "          const dataTable =\n",
              "            await google.colab.kernel.invokeFunction('convertToInteractive',\n",
              "                                                     [key], {});\n",
              "          if (!dataTable) return;\n",
              "\n",
              "          const docLinkHtml = 'Like what you see? Visit the ' +\n",
              "            '<a target=\"_blank\" href=https://colab.research.google.com/notebooks/data_table.ipynb>data table notebook</a>'\n",
              "            + ' to learn more about interactive tables.';\n",
              "          element.innerHTML = '';\n",
              "          dataTable['output_type'] = 'display_data';\n",
              "          await google.colab.output.renderOutput(dataTable, element);\n",
              "          const docLink = document.createElement('div');\n",
              "          docLink.innerHTML = docLinkHtml;\n",
              "          element.appendChild(docLink);\n",
              "        }\n",
              "      </script>\n",
              "    </div>\n",
              "  </div>\n",
              "  "
            ]
          },
          "metadata": {},
          "execution_count": 64
        }
      ],
      "source": [
        "val_performance\n",
        "pd.DataFrame(val_performance)"
      ]
    },
    {
      "cell_type": "code",
      "execution_count": 65,
      "metadata": {
        "id": "jxksdMsIJ0Bx"
      },
      "outputs": [],
      "source": [
        "#"
      ]
    },
    {
      "cell_type": "code",
      "execution_count": 66,
      "metadata": {
        "id": "_Q0NehxMJ0Bx"
      },
      "outputs": [],
      "source": [
        "from sklearn.ensemble import GradientBoostingRegressor"
      ]
    },
    {
      "cell_type": "code",
      "execution_count": 67,
      "metadata": {
        "id": "7qSWb-SnJ0Bx"
      },
      "outputs": [],
      "source": [
        "model4 = GradientBoostingRegressor()"
      ]
    },
    {
      "cell_type": "code",
      "execution_count": 68,
      "metadata": {
        "id": "GPloPuQBJ0Bx"
      },
      "outputs": [],
      "source": [
        "train = list(train_data.unbatch().as_numpy_iterator())\n",
        "\n",
        "X  = np.array([i[0] for i in train])\n",
        "y  = np.array([i[1] for i in train])\n"
      ]
    },
    {
      "cell_type": "code",
      "execution_count": 69,
      "metadata": {
        "id": "nYKk3ZyVJ0Bx"
      },
      "outputs": [],
      "source": [
        "val = list(val_data.unbatch().as_numpy_iterator())\n",
        "\n",
        "Xval  = np.array([i[0] for i in val])\n",
        "yval  = np.array([i[1] for i in val])\n"
      ]
    },
    {
      "cell_type": "code",
      "execution_count": 70,
      "metadata": {
        "id": "vJqTBWB4J0Bx",
        "outputId": "b238b6bf-f558-477d-ceda-789120865a72",
        "colab": {
          "base_uri": "https://localhost:8080/"
        }
      },
      "outputs": [
        {
          "output_type": "execute_result",
          "data": {
            "text/plain": [
              "((1014, 7), (1014, 1))"
            ]
          },
          "metadata": {},
          "execution_count": 70
        }
      ],
      "source": [
        "X.shape, y.shape"
      ]
    },
    {
      "cell_type": "code",
      "execution_count": 71,
      "metadata": {
        "id": "4XKSOz4KJ0By"
      },
      "outputs": [],
      "source": [
        "y =  np.squeeze(y)\n",
        "yval =  np.squeeze(yval)"
      ]
    },
    {
      "cell_type": "code",
      "execution_count": 72,
      "metadata": {
        "id": "0BI8r9rzJ0By",
        "outputId": "05b08e83-179d-40ac-82e1-632a7581765e",
        "colab": {
          "base_uri": "https://localhost:8080/",
          "height": 75
        }
      },
      "outputs": [
        {
          "output_type": "execute_result",
          "data": {
            "text/plain": [
              "GradientBoostingRegressor()"
            ],
            "text/html": [
              "<style>#sk-container-id-1 {color: black;background-color: white;}#sk-container-id-1 pre{padding: 0;}#sk-container-id-1 div.sk-toggleable {background-color: white;}#sk-container-id-1 label.sk-toggleable__label {cursor: pointer;display: block;width: 100%;margin-bottom: 0;padding: 0.3em;box-sizing: border-box;text-align: center;}#sk-container-id-1 label.sk-toggleable__label-arrow:before {content: \"▸\";float: left;margin-right: 0.25em;color: #696969;}#sk-container-id-1 label.sk-toggleable__label-arrow:hover:before {color: black;}#sk-container-id-1 div.sk-estimator:hover label.sk-toggleable__label-arrow:before {color: black;}#sk-container-id-1 div.sk-toggleable__content {max-height: 0;max-width: 0;overflow: hidden;text-align: left;background-color: #f0f8ff;}#sk-container-id-1 div.sk-toggleable__content pre {margin: 0.2em;color: black;border-radius: 0.25em;background-color: #f0f8ff;}#sk-container-id-1 input.sk-toggleable__control:checked~div.sk-toggleable__content {max-height: 200px;max-width: 100%;overflow: auto;}#sk-container-id-1 input.sk-toggleable__control:checked~label.sk-toggleable__label-arrow:before {content: \"▾\";}#sk-container-id-1 div.sk-estimator input.sk-toggleable__control:checked~label.sk-toggleable__label {background-color: #d4ebff;}#sk-container-id-1 div.sk-label input.sk-toggleable__control:checked~label.sk-toggleable__label {background-color: #d4ebff;}#sk-container-id-1 input.sk-hidden--visually {border: 0;clip: rect(1px 1px 1px 1px);clip: rect(1px, 1px, 1px, 1px);height: 1px;margin: -1px;overflow: hidden;padding: 0;position: absolute;width: 1px;}#sk-container-id-1 div.sk-estimator {font-family: monospace;background-color: #f0f8ff;border: 1px dotted black;border-radius: 0.25em;box-sizing: border-box;margin-bottom: 0.5em;}#sk-container-id-1 div.sk-estimator:hover {background-color: #d4ebff;}#sk-container-id-1 div.sk-parallel-item::after {content: \"\";width: 100%;border-bottom: 1px solid gray;flex-grow: 1;}#sk-container-id-1 div.sk-label:hover label.sk-toggleable__label {background-color: #d4ebff;}#sk-container-id-1 div.sk-serial::before {content: \"\";position: absolute;border-left: 1px solid gray;box-sizing: border-box;top: 0;bottom: 0;left: 50%;z-index: 0;}#sk-container-id-1 div.sk-serial {display: flex;flex-direction: column;align-items: center;background-color: white;padding-right: 0.2em;padding-left: 0.2em;position: relative;}#sk-container-id-1 div.sk-item {position: relative;z-index: 1;}#sk-container-id-1 div.sk-parallel {display: flex;align-items: stretch;justify-content: center;background-color: white;position: relative;}#sk-container-id-1 div.sk-item::before, #sk-container-id-1 div.sk-parallel-item::before {content: \"\";position: absolute;border-left: 1px solid gray;box-sizing: border-box;top: 0;bottom: 0;left: 50%;z-index: -1;}#sk-container-id-1 div.sk-parallel-item {display: flex;flex-direction: column;z-index: 1;position: relative;background-color: white;}#sk-container-id-1 div.sk-parallel-item:first-child::after {align-self: flex-end;width: 50%;}#sk-container-id-1 div.sk-parallel-item:last-child::after {align-self: flex-start;width: 50%;}#sk-container-id-1 div.sk-parallel-item:only-child::after {width: 0;}#sk-container-id-1 div.sk-dashed-wrapped {border: 1px dashed gray;margin: 0 0.4em 0.5em 0.4em;box-sizing: border-box;padding-bottom: 0.4em;background-color: white;}#sk-container-id-1 div.sk-label label {font-family: monospace;font-weight: bold;display: inline-block;line-height: 1.2em;}#sk-container-id-1 div.sk-label-container {text-align: center;}#sk-container-id-1 div.sk-container {/* jupyter's `normalize.less` sets `[hidden] { display: none; }` but bootstrap.min.css set `[hidden] { display: none !important; }` so we also need the `!important` here to be able to override the default hidden behavior on the sphinx rendered scikit-learn.org. See: https://github.com/scikit-learn/scikit-learn/issues/21755 */display: inline-block !important;position: relative;}#sk-container-id-1 div.sk-text-repr-fallback {display: none;}</style><div id=\"sk-container-id-1\" class=\"sk-top-container\"><div class=\"sk-text-repr-fallback\"><pre>GradientBoostingRegressor()</pre><b>In a Jupyter environment, please rerun this cell to show the HTML representation or trust the notebook. <br />On GitHub, the HTML representation is unable to render, please try loading this page with nbviewer.org.</b></div><div class=\"sk-container\" hidden><div class=\"sk-item\"><div class=\"sk-estimator sk-toggleable\"><input class=\"sk-toggleable__control sk-hidden--visually\" id=\"sk-estimator-id-1\" type=\"checkbox\" checked><label for=\"sk-estimator-id-1\" class=\"sk-toggleable__label sk-toggleable__label-arrow\">GradientBoostingRegressor</label><div class=\"sk-toggleable__content\"><pre>GradientBoostingRegressor()</pre></div></div></div></div></div>"
            ]
          },
          "metadata": {},
          "execution_count": 72
        }
      ],
      "source": [
        "model4.fit(X,y)"
      ]
    },
    {
      "cell_type": "code",
      "execution_count": 73,
      "metadata": {
        "id": "FiSR0vHKJ0By"
      },
      "outputs": [],
      "source": [
        "ypred4 = model4.predict(Xval)"
      ]
    },
    {
      "cell_type": "code",
      "execution_count": 74,
      "metadata": {
        "id": "1-Ltyr54J0By"
      },
      "outputs": [],
      "source": [
        "from sklearn.metrics import mean_absolute_error, mean_squared_error"
      ]
    },
    {
      "cell_type": "code",
      "execution_count": 75,
      "metadata": {
        "id": "IZhom9XmJ0By"
      },
      "outputs": [],
      "source": [
        "\n",
        "model4_results = {  \n",
        "    'mae': mean_absolute_error(yval, ypred4),\n",
        "    'mse': mean_squared_error(yval, ypred4),\n",
        "    'rmse': mean_squared_error(yval, ypred4, squared=False),\n",
        "    'mape' : tf.keras.metrics.mean_absolute_percentage_error(yval, ypred4),\n",
        "    'mase' : mean_absolute_scaled_error(yval, ypred4)}"
      ]
    },
    {
      "cell_type": "code",
      "execution_count": 76,
      "metadata": {
        "id": "DTFabMB-J0Bz",
        "outputId": "b2669f55-201c-4ba2-9c41-74cebdef7293",
        "colab": {
          "base_uri": "https://localhost:8080/",
          "height": 165
        }
      },
      "outputs": [
        {
          "output_type": "error",
          "ename": "NameError",
          "evalue": "ignored",
          "traceback": [
            "\u001b[0;31m---------------------------------------------------------------------------\u001b[0m",
            "\u001b[0;31mNameError\u001b[0m                                 Traceback (most recent call last)",
            "\u001b[0;32m<ipython-input-76-09d5146ef286>\u001b[0m in \u001b[0;36m<module>\u001b[0;34m\u001b[0m\n\u001b[0;32m----> 1\u001b[0;31m \u001b[0mval_performance\u001b[0m\u001b[0;34m[\u001b[0m\u001b[0;34m'model4'\u001b[0m\u001b[0;34m]\u001b[0m \u001b[0;34m=\u001b[0m \u001b[0mmodel1_result\u001b[0m\u001b[0;34m\u001b[0m\u001b[0;34m\u001b[0m\u001b[0m\n\u001b[0m",
            "\u001b[0;31mNameError\u001b[0m: name 'model1_result' is not defined"
          ]
        }
      ],
      "source": [
        "val_performance['model4'] = model1_result"
      ]
    },
    {
      "cell_type": "code",
      "execution_count": null,
      "metadata": {
        "id": "oaOTy1aVJ0Bz"
      },
      "outputs": [],
      "source": []
    },
    {
      "cell_type": "code",
      "execution_count": null,
      "metadata": {
        "id": "WQL0kFqlJ0Bz"
      },
      "outputs": [],
      "source": []
    },
    {
      "cell_type": "code",
      "execution_count": null,
      "metadata": {
        "id": "aBju3fNnJ0Bz"
      },
      "outputs": [],
      "source": []
    },
    {
      "cell_type": "code",
      "execution_count": null,
      "metadata": {
        "id": "sCwPPwyjJ0Bz"
      },
      "outputs": [],
      "source": []
    },
    {
      "cell_type": "code",
      "execution_count": null,
      "metadata": {
        "id": "fCz3g1A_J0Bz"
      },
      "outputs": [],
      "source": []
    },
    {
      "cell_type": "code",
      "execution_count": null,
      "metadata": {
        "id": "NgIInP6PJ0Bz"
      },
      "outputs": [],
      "source": []
    },
    {
      "cell_type": "code",
      "execution_count": null,
      "metadata": {
        "id": "iXGGIjZmJ0Bz"
      },
      "outputs": [],
      "source": []
    },
    {
      "cell_type": "code",
      "execution_count": null,
      "metadata": {
        "id": "4EaxF9tdJ0Bz"
      },
      "outputs": [],
      "source": []
    },
    {
      "cell_type": "code",
      "execution_count": null,
      "metadata": {
        "id": "mPQlIuxwJ0Bz"
      },
      "outputs": [],
      "source": []
    },
    {
      "cell_type": "code",
      "execution_count": null,
      "metadata": {
        "id": "gu3MxF9nJ0B0"
      },
      "outputs": [],
      "source": []
    },
    {
      "cell_type": "code",
      "execution_count": null,
      "metadata": {
        "id": "a6aC7giHJ0B0"
      },
      "outputs": [],
      "source": []
    },
    {
      "cell_type": "code",
      "execution_count": null,
      "metadata": {
        "id": "zrwBT8heJ0B0"
      },
      "outputs": [],
      "source": []
    },
    {
      "cell_type": "code",
      "execution_count": null,
      "metadata": {
        "id": "RrI3SdsIJ0B0"
      },
      "outputs": [],
      "source": []
    },
    {
      "cell_type": "code",
      "execution_count": null,
      "metadata": {
        "id": "QkGtmCyPJ0B0"
      },
      "outputs": [],
      "source": []
    },
    {
      "cell_type": "code",
      "execution_count": null,
      "metadata": {
        "id": "A67qrXokJ0B0"
      },
      "outputs": [],
      "source": []
    },
    {
      "cell_type": "code",
      "execution_count": null,
      "metadata": {
        "id": "kA-LdgcYJ0B0"
      },
      "outputs": [],
      "source": []
    },
    {
      "cell_type": "code",
      "execution_count": null,
      "metadata": {
        "id": "5D5dq0VvJ0B0"
      },
      "outputs": [],
      "source": []
    },
    {
      "cell_type": "code",
      "execution_count": null,
      "metadata": {
        "id": "LiCEMTcUJ0B0"
      },
      "outputs": [],
      "source": []
    }
  ],
  "metadata": {
    "colab": {
      "provenance": [],
      "include_colab_link": true
    },
    "kernelspec": {
      "display_name": "Python 3 (ipykernel)",
      "language": "python",
      "name": "python3"
    },
    "language_info": {
      "codemirror_mode": {
        "name": "ipython",
        "version": 3
      },
      "file_extension": ".py",
      "mimetype": "text/x-python",
      "name": "python",
      "nbconvert_exporter": "python",
      "pygments_lexer": "ipython3",
      "version": "3.10.6"
    },
    "gpuClass": "standard"
  },
  "nbformat": 4,
  "nbformat_minor": 0
}